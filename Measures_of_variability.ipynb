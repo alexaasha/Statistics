{
 "cells": [
  {
   "cell_type": "code",
   "execution_count": 8,
   "id": "invalid-globe",
   "metadata": {},
   "outputs": [],
   "source": [
    "import numpy as np\n",
    "from matplotlib import pyplot as plt\n"
   ]
  },
  {
   "cell_type": "code",
   "execution_count": 9,
   "id": "leading-trace",
   "metadata": {},
   "outputs": [],
   "source": [
    "data = np.random.randn(10000)"
   ]
  },
  {
   "cell_type": "markdown",
   "id": "consistent-shift",
   "metadata": {},
   "source": [
    "Range"
   ]
  },
  {
   "cell_type": "code",
   "execution_count": 10,
   "id": "measured-platinum",
   "metadata": {},
   "outputs": [
    {
     "data": {
      "image/png": "[encoded data removed]",
      "text/plain": [
       "<Figure size 432x288 with 1 Axes>"
      ]
     },
     "metadata": {
      "needs_background": "light"
     },
     "output_type": "display_data"
    },
    {
     "name": "stdout",
     "output_type": "stream",
     "text": [
      "The range of data is: 7.687915638567857\n"
     ]
    }
   ],
   "source": [
    "plt.hist(data)\n",
    "plt.title('Histogram')\n",
    "plt.show()\n",
    "\n",
    "print(f'The range of data is: {data.max() - data.min()}')"
   ]
  },
  {
   "cell_type": "markdown",
   "id": "after-webster",
   "metadata": {},
   "source": [
    "Variance ($\\sigma ^ 2$)\n",
    "\n",
    "Variance can be calculated in two ways: for statistical population and for sample.\n",
    "For sample the Bessel's correction is used to obtain more accurate results."
   ]
  },
  {
   "cell_type": "code",
   "execution_count": 11,
   "id": "interpreted-continent",
   "metadata": {},
   "outputs": [
    {
     "name": "stdout",
     "output_type": "stream",
     "text": [
      "The variance (for statistical population) of data is: 0.9942965096297155\n",
      "The variance (for sample) of data is: 0.994395949224638\n"
     ]
    }
   ],
   "source": [
    "var = ((data - data.mean()) ** 2).sum() / data.size\n",
    "print(f'The variance (for statistical population) of data is: {var}')\n",
    "\n",
    "var = ((data - data.mean()) ** 2).sum() / (data.size - 1)\n",
    "print(f'The variance (for sample) of data is: {var}')"
   ]
  },
  {
   "cell_type": "markdown",
   "id": "illegal-martin",
   "metadata": {},
   "source": [
    "The disadvantage of the variance lies in the incorrect scale of the obtained value. That's why the standard deviation is used more often."
   ]
  },
  {
   "cell_type": "markdown",
   "id": "recognized-bouquet",
   "metadata": {},
   "source": [
    "Standard deviation ($sd$ or $\\sigma$)"
   ]
  },
  {
   "cell_type": "code",
   "execution_count": 12,
   "id": "falling-overall",
   "metadata": {},
   "outputs": [
    {
     "name": "stdout",
     "output_type": "stream",
     "text": [
      "The sd of data is: 0.9971441769522176\n"
     ]
    }
   ],
   "source": [
    "sd = ((data - data.mean()) ** 2).sum() / data.size\n",
    "print(f'The sd of data is: {np.sqrt(sd)}')"
   ]
  },
  {
   "cell_type": "markdown",
   "id": "champion-intellectual",
   "metadata": {},
   "source": [
    "Properties of variance and sd:\n",
    "\n",
    "\n",
    "$D_{x + c} = D_x$\n",
    "\n",
    "$sd_{x + c} = sd_x$\n",
    "\n",
    "$D_{x \\cdot c} = D_x \\cdot c ^ 2$\n",
    "sd_{x \\cdot c} = sd_x \\cdot c \\\\\n",
    "\\end{equation*}"
   ]
  },
  {
   "cell_type": "code",
   "execution_count": 13,
   "id": "imperial-driving",
   "metadata": {},
   "outputs": [
    {
     "name": "stdout",
     "output_type": "stream",
     "text": [
      "Vatiance and sd of old data are: 0.994395949224638, 0.9942965096297155\n",
      "Vatiance and sd of new data are: 0.9942965096297155, 0.9971441769522176\n"
     ]
    }
   ],
   "source": [
    "c = 5\n",
    "\n",
    "new_data = data + c\n",
    "new_var = ((new_data - new_data.mean()) ** 2).sum() / new_data.size\n",
    "new_sd = np.sqrt(new_var)\n",
    "\n",
    "print(f'Vatiance and sd of old data are: {var}, {sd}')\n",
    "print(f'Vatiance and sd of new data are: {new_var}, {new_sd}')"
   ]
  },
  {
   "cell_type": "code",
   "execution_count": 14,
   "id": "pursuant-software",
   "metadata": {},
   "outputs": [
    {
     "name": "stdout",
     "output_type": "stream",
     "text": [
      "Vatiance and sd of old data are: 0.994395949224638, 0.9942965096297155\n",
      "Vatiance and sd of new data are: 24.85741274074289, 4.985720884761088\n"
     ]
    }
   ],
   "source": [
    "new_data = data * c\n",
    "new_var = ((new_data - new_data.mean()) ** 2).sum() / new_data.size\n",
    "new_sd = np.sqrt(new_var)\n",
    "\n",
    "print(f'Vatiance and sd of old data are: {var}, {sd}')\n",
    "print(f'Vatiance and sd of new data are: {new_var}, {new_sd}')"
   ]
  }
 ],
 "metadata": {
  "kernelspec": {
   "display_name": "Python 3",
   "language": "python",
   "name": "python3"
  },
  "language_info": {
   "codemirror_mode": {
    "name": "ipython",
    "version": 3
   },
   "file_extension": ".py",
   "mimetype": "text/x-python",
   "name": "python",
   "nbconvert_exporter": "python",
   "pygments_lexer": "ipython3",
   "version": "3.8.10"
  }
 },
 "nbformat": 4,
 "nbformat_minor": 5
}
